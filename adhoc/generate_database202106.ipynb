{
 "cells": [
  {
   "cell_type": "code",
   "execution_count": 4,
   "metadata": {},
   "outputs": [],
   "source": [
    "import camelot\n",
    "import pandas\n",
    "import os\n",
    "import copy\n",
    "from datetime import datetime, timedelta\n",
    "import feedparser\n",
    "import time\n",
    "import requests\n",
    "from bs4 import BeautifulSoup\n",
    "from urllib.parse import urljoin\n",
    "# from twitter_post import post\n",
    "import re\n",
    "import PyPDF2\n",
    "from pathlib import Path"
   ]
  },
  {
   "cell_type": "code",
   "execution_count": 12,
   "metadata": {},
   "outputs": [
    {
     "name": "stdout",
     "output_type": "stream",
     "text": [
      "generating C:\\Users\\shuny\\Documents\\twitter_aichi_covid19\\data\\202105.pdf\n"
     ]
    },
    {
     "name": "stderr",
     "output_type": "stream",
     "text": [
      "PdfReadWarning: Xref table not zero-indexed. ID numbers for objects will be corrected. [pdf.py:1736]\n"
     ]
    }
   ],
   "source": [
    "pdf_file_path = Path.cwd().parent.joinpath(\"data\", \"202105.pdf\")\n",
    "\n",
    "print(f\"generating {pdf_file_path}\")\n",
    "\n",
    "\n",
    "pdf_read = PyPDF2.PdfFileReader(pdf_file_path.__str__())\n",
    "num_page = pdf_read.numPages\n",
    "\n",
    "if num_page > 10:\n",
    "    page_list = list(range(10, num_page, 10))\n",
    "else:\n",
    "    page_list = [num_page]\n",
    "init = 1\n",
    "dfs_lap = []\n",
    "for num in page_list:\n",
    "    if num == page_list[-1]:\n",
    "        num = \"end\"\n",
    "    tbls = camelot.read_pdf(pdf_file_path.__str__(), pages=f'{init}-{num}')\n",
    "    if num != \"end\":\n",
    "        init = num + 1\n",
    "\n",
    "    dfs = []\n",
    "    for table in tbls:\n",
    "        df = table.df\n",
    "        dfs.append(df)\n",
    "    df_all = pandas.concat(dfs)\n",
    "    dfs_lap.append(df_all)\n",
    "df_total = pandas.concat(dfs_lap)"
   ]
  },
  {
   "cell_type": "code",
   "execution_count": 15,
   "metadata": {},
   "outputs": [],
   "source": [
    "df_total.to_pickle(\"database.zip\")"
   ]
  },
  {
   "cell_type": "code",
   "execution_count": null,
   "metadata": {},
   "outputs": [],
   "source": []
  },
  {
   "cell_type": "code",
   "execution_count": 17,
   "metadata": {},
   "outputs": [],
   "source": [
    "\n",
    "\n",
    "df_all = copy.deepcopy(df_total)\n",
    "\n",
    "# NoをIndexにする\n",
    "df_all.columns = df_all.iloc[0, :]\n",
    "df_all = df_all.sort_values(\"No\")\n",
    "df_all = df_all[df_all[\"No\"] != \"No\"]\n",
    "df_all = df_all.set_index(\"No\")"
   ]
  },
  {
   "cell_type": "code",
   "execution_count": null,
   "metadata": {},
   "outputs": [],
   "source": []
  },
  {
   "cell_type": "code",
   "execution_count": null,
   "metadata": {},
   "outputs": [],
   "source": []
  },
  {
   "cell_type": "code",
   "execution_count": 78,
   "metadata": {},
   "outputs": [],
   "source": [
    "# 発表日が欠番なものを削除\n",
    "df_all = df_all[~df_all[\"発表日\"].str.contains(\"欠番\")]\n",
    "\n",
    "# インデックスが修正なものを削除\n",
    "df_all = df_all[~df_all.index.str.contains(\"修正\")]\n",
    "\n",
    "\n",
    "# 発表日のコラムに\\n区切りで他のデータが紛れ込んでいるものを修正\n",
    "issued_date = [_.split(\"\\n\") for _ in df_all[\"発表日\"].to_list()]\n",
    "refined_list = []\n",
    "for i, _ in enumerate(issued_date):\n",
    "    if len(_) > 1:\n",
    "        \n",
    "        new_list = _+ [elem for elem in df_all.iloc[i, :].to_list() if (elem!=\"\")&(elem!=\"\\n\".join(_))]\n",
    "        new_list.insert(2, \"\")\n",
    "        if len(new_list) == 5:\n",
    "            new_list.insert(4, \"\")\n",
    "        refined_list.append(new_list)\n",
    "    else:\n",
    "        refined_list.append(df_all.iloc[i, :].to_list())\n",
    "\n",
    "for i in range(len(df_all.index)):\n",
    "    df_all.iloc[i,:] = refined_list[i]\n"
   ]
  },
  {
   "cell_type": "code",
   "execution_count": null,
   "metadata": {},
   "outputs": [],
   "source": []
  },
  {
   "cell_type": "code",
   "execution_count": 106,
   "metadata": {},
   "outputs": [],
   "source": [
    "# インデックスの中に発表日が紛れ込んでいるものを修正\n",
    "new_index = []\n",
    "new_date = []\n",
    "for i, _ in enumerate(df_all.index.to_list()):\n",
    "    if not _.isdigit():\n",
    "        index, remaining = _.split()\n",
    "        remaining = remaining.replace(\"※\", \"\")\n",
    "        new_index.append(int(index))\n",
    "        new_date.append(remaining)\n",
    "    else:\n",
    "        new_index.append(int(_))\n",
    "        new_date.append(df_all.iloc[i, :][\"発表日\"])\n",
    "df_all.index = new_index\n",
    "df_all[\"発表日\"] = new_date"
   ]
  },
  {
   "cell_type": "code",
   "execution_count": 108,
   "metadata": {},
   "outputs": [],
   "source": [
    "# インデックスでソート\n",
    "df_all = df_all.sort_index()"
   ]
  },
  {
   "cell_type": "code",
   "execution_count": 115,
   "metadata": {},
   "outputs": [],
   "source": [
    "# 2020年と2021年のはざまを検索する\n",
    "months = [int(_.split(\"月\")[0]) for _ in df_all[\"発表日\"].to_list()]\n",
    "for i, month in enumerate(months): \n",
    "    if month > months[i+1]+10:\n",
    "        year_start = i\n",
    "        break\n",
    "\n",
    "# 発表日をstrからdatetimeに修正\n",
    "df_all[\"発表日\"] = pandas.to_datetime(\n",
    "    ['2021年' + _ if no > year_start else '2020年' + _ for no, _ in enumerate(df_all['発表日'])], format='%Y年%m月%d日')"
   ]
  },
  {
   "cell_type": "code",
   "execution_count": 117,
   "metadata": {},
   "outputs": [],
   "source": [
    "df_all.to_pickle(\"202105.zip\")"
   ]
  },
  {
   "cell_type": "code",
   "execution_count": null,
   "metadata": {},
   "outputs": [],
   "source": []
  }
 ],
 "metadata": {
  "kernelspec": {
   "display_name": "Python 3",
   "language": "python",
   "name": "python3"
  },
  "language_info": {
   "codemirror_mode": {
    "name": "ipython",
    "version": 3
   },
   "file_extension": ".py",
   "mimetype": "text/x-python",
   "name": "python",
   "nbconvert_exporter": "python",
   "pygments_lexer": "ipython3",
   "version": "3.8.5"
  }
 },
 "nbformat": 4,
 "nbformat_minor": 4
}
