{
 "cells": [
  {
   "cell_type": "code",
   "execution_count": 1,
   "metadata": {},
   "outputs": [],
   "source": [
    "import camelot\n",
    "import pandas\n",
    "import os\n",
    "import copy\n",
    "from datetime import datetime, timedelta\n",
    "import feedparser\n",
    "import time\n",
    "import requests\n",
    "from bs4 import BeautifulSoup\n",
    "from urllib.parse import urljoin\n",
    "from twitter_post import post\n",
    "import re\n",
    "import PyPDF2"
   ]
  },
  {
   "cell_type": "code",
   "execution_count": 2,
   "metadata": {},
   "outputs": [
    {
     "name": "stdout",
     "output_type": "stream",
     "text": [
      "generating data/202103.pdf\n"
     ]
    },
    {
     "name": "stderr",
     "output_type": "stream",
     "text": [
      "PdfReadWarning: Xref table not zero-indexed. ID numbers for objects will be corrected. [pdf.py:1736]\n"
     ]
    }
   ],
   "source": [
    "pdf_file_path = os.path.join(\"data\", \"202103.pdf\")\n",
    "\n",
    "print(f\"generating {pdf_file_path}\")\n",
    "\n",
    "\n",
    "pdf_read = PyPDF2.PdfFileReader(pdf_file_path)\n",
    "num_page = pdf_read.numPages\n",
    "\n",
    "if num_page > 10:\n",
    "    page_list = list(range(10, num_page, 10))\n",
    "else:\n",
    "    page_list = [num_page]\n",
    "init = 1\n",
    "dfs_lap = []\n",
    "for num in page_list:\n",
    "    if num == page_list[-1]:\n",
    "        num = \"end\"\n",
    "    tbls = camelot.read_pdf(pdf_file_path, pages=f'{init}-{num}')\n",
    "    if num != \"end\":\n",
    "        init = num + 1\n",
    "\n",
    "    dfs = []\n",
    "    for table in tbls:\n",
    "        df = table.df\n",
    "        dfs.append(df)\n",
    "    df_all = pandas.concat(dfs)\n",
    "    dfs_lap.append(df_all)\n",
    "df_total = pandas.concat(dfs_lap)\n",
    "\n",
    "df_all = copy.deepcopy(df_total)\n",
    "\n",
    "df_all.columns = df_all.iloc[0, :]\n",
    "df_all = df_all.sort_values(\"No\")\n",
    "df_all = df_all[df_all[\"No\"] != \"No\"]\n",
    "df_all = df_all.set_index(\"No\")"
   ]
  },
  {
   "cell_type": "code",
   "execution_count": 99,
   "metadata": {},
   "outputs": [],
   "source": [
    "exceptions2 = [index for index, _date in zip(df_all.index, df_all[\"発表日\"]) if \"欠番\" in _date]\n",
    "exceptions = [index for index in df_all.index if \"陽性者公表数の修正\" in index ]\n",
    "exceptions += exceptions2\n",
    "df_all2 = df_all.drop(exceptions, axis=0)"
   ]
  },
  {
   "cell_type": "code",
   "execution_count": null,
   "metadata": {},
   "outputs": [],
   "source": []
  },
  {
   "cell_type": "code",
   "execution_count": 104,
   "metadata": {},
   "outputs": [
    {
     "name": "stderr",
     "output_type": "stream",
     "text": [
      "SettingWithCopyWarning: \n",
      "A value is trying to be set on a copy of a slice from a DataFrame.\n",
      "Try using .loc[row_indexer,col_indexer] = value instead\n",
      "\n",
      "See the caveats in the documentation: https://pandas.pydata.org/pandas-docs/stable/user_guide/indexing.html#returning-a-view-versus-a-copy [indexing.py:1843]\n"
     ]
    }
   ],
   "source": [
    "new_index = []\n",
    "new_date = []\n",
    "for no in df_all2.index:\n",
    "    if df_all2.at[no, \"発表日\"] == \"\":\n",
    "        _no, _date = no.split()\n",
    "    else:\n",
    "        _no, _date = no, df_all2.at[no, \"発表日\"]\n",
    "    new_index.append(int(_no))\n",
    "    new_date.append(_date.replace(\"※\", \"\"))\n",
    "df_all2.index = new_index\n",
    "df_all2.loc[:, \"発表日\"] = new_date"
   ]
  },
  {
   "cell_type": "code",
   "execution_count": 105,
   "metadata": {},
   "outputs": [
    {
     "data": {
      "text/html": [
       "<div>\n",
       "<style scoped>\n",
       "    .dataframe tbody tr th:only-of-type {\n",
       "        vertical-align: middle;\n",
       "    }\n",
       "\n",
       "    .dataframe tbody tr th {\n",
       "        vertical-align: top;\n",
       "    }\n",
       "\n",
       "    .dataframe thead th {\n",
       "        text-align: right;\n",
       "    }\n",
       "</style>\n",
       "<table border=\"1\" class=\"dataframe\">\n",
       "  <thead>\n",
       "    <tr style=\"text-align: right;\">\n",
       "      <th></th>\n",
       "      <th>発表日</th>\n",
       "      <th>年代・性別</th>\n",
       "      <th>国籍</th>\n",
       "      <th>住居地</th>\n",
       "      <th>接触状況</th>\n",
       "      <th>備考</th>\n",
       "    </tr>\n",
       "  </thead>\n",
       "  <tbody>\n",
       "  </tbody>\n",
       "</table>\n",
       "</div>"
      ],
      "text/plain": [
       "Empty DataFrame\n",
       "Columns: [発表日, 年代・性別, 国籍, 住居地, 接触状況, 備考]\n",
       "Index: []"
      ]
     },
     "execution_count": 105,
     "metadata": {},
     "output_type": "execute_result"
    }
   ],
   "source": [
    "df_all2[df_all2[\"発表日\"] == \"\"]"
   ]
  },
  {
   "cell_type": "code",
   "execution_count": null,
   "metadata": {},
   "outputs": [],
   "source": []
  },
  {
   "cell_type": "code",
   "execution_count": null,
   "metadata": {},
   "outputs": [],
   "source": []
  },
  {
   "cell_type": "code",
   "execution_count": 22,
   "metadata": {},
   "outputs": [
    {
     "ename": "ValueError",
     "evalue": "invalid literal for int() with base 10: '6882 7月24日※'",
     "output_type": "error",
     "traceback": [
      "\u001b[0;31m---------------------------------------------------------------------------\u001b[0m",
      "\u001b[0;31mValueError\u001b[0m                                Traceback (most recent call last)",
      "\u001b[0;32m<ipython-input-22-b0da96f48caa>\u001b[0m in \u001b[0;36m<module>\u001b[0;34m\u001b[0m\n\u001b[0;32m----> 1\u001b[0;31m \u001b[0mdf_all2\u001b[0m\u001b[0;34m.\u001b[0m\u001b[0mindex\u001b[0m \u001b[0;34m=\u001b[0m \u001b[0;34m[\u001b[0m\u001b[0mint\u001b[0m\u001b[0;34m(\u001b[0m\u001b[0m_\u001b[0m\u001b[0;34m)\u001b[0m \u001b[0;32mfor\u001b[0m \u001b[0m_\u001b[0m \u001b[0;32min\u001b[0m \u001b[0mdf_all2\u001b[0m\u001b[0;34m.\u001b[0m\u001b[0mindex\u001b[0m\u001b[0;34m]\u001b[0m\u001b[0;34m\u001b[0m\u001b[0;34m\u001b[0m\u001b[0m\n\u001b[0m",
      "\u001b[0;32m<ipython-input-22-b0da96f48caa>\u001b[0m in \u001b[0;36m<listcomp>\u001b[0;34m(.0)\u001b[0m\n\u001b[0;32m----> 1\u001b[0;31m \u001b[0mdf_all2\u001b[0m\u001b[0;34m.\u001b[0m\u001b[0mindex\u001b[0m \u001b[0;34m=\u001b[0m \u001b[0;34m[\u001b[0m\u001b[0mint\u001b[0m\u001b[0;34m(\u001b[0m\u001b[0m_\u001b[0m\u001b[0;34m)\u001b[0m \u001b[0;32mfor\u001b[0m \u001b[0m_\u001b[0m \u001b[0;32min\u001b[0m \u001b[0mdf_all2\u001b[0m\u001b[0;34m.\u001b[0m\u001b[0mindex\u001b[0m\u001b[0;34m]\u001b[0m\u001b[0;34m\u001b[0m\u001b[0;34m\u001b[0m\u001b[0m\n\u001b[0m",
      "\u001b[0;31mValueError\u001b[0m: invalid literal for int() with base 10: '6882 7月24日※'"
     ]
    }
   ],
   "source": [
    "df_all2.index = [int(_) for _ in df_all2.index]"
   ]
  },
  {
   "cell_type": "code",
   "execution_count": null,
   "metadata": {},
   "outputs": [],
   "source": []
  },
  {
   "cell_type": "code",
   "execution_count": 89,
   "metadata": {},
   "outputs": [],
   "source": [
    "for ind in df_all2.index:\n",
    "    try:\n",
    "        int(ind)\n",
    "    except:\n",
    "        print(df_all2.loc[ind, :])"
   ]
  },
  {
   "cell_type": "code",
   "execution_count": null,
   "metadata": {},
   "outputs": [],
   "source": []
  },
  {
   "cell_type": "code",
   "execution_count": 106,
   "metadata": {},
   "outputs": [
    {
     "name": "stderr",
     "output_type": "stream",
     "text": [
      "SettingWithCopyWarning: \n",
      "A value is trying to be set on a copy of a slice from a DataFrame\n",
      "\n",
      "See the caveats in the documentation: https://pandas.pydata.org/pandas-docs/stable/user_guide/indexing.html#returning-a-view-versus-a-copy [indexing.py:1637]\n",
      "SettingWithCopyWarning: \n",
      "A value is trying to be set on a copy of a slice from a DataFrame\n",
      "\n",
      "See the caveats in the documentation: https://pandas.pydata.org/pandas-docs/stable/user_guide/indexing.html#returning-a-view-versus-a-copy [indexing.py:692]\n"
     ]
    }
   ],
   "source": [
    "list0 = df_all2.loc[6951,\"発表日\"].split(\"\\n\")\n",
    "list0.insert(2,\"\")\n",
    "list0\n",
    "df_all2.loc[6951,:] = list0"
   ]
  },
  {
   "cell_type": "code",
   "execution_count": null,
   "metadata": {},
   "outputs": [],
   "source": []
  },
  {
   "cell_type": "code",
   "execution_count": null,
   "metadata": {},
   "outputs": [],
   "source": []
  },
  {
   "cell_type": "code",
   "execution_count": 93,
   "metadata": {},
   "outputs": [
    {
     "data": {
      "text/html": [
       "<div>\n",
       "<style scoped>\n",
       "    .dataframe tbody tr th:only-of-type {\n",
       "        vertical-align: middle;\n",
       "    }\n",
       "\n",
       "    .dataframe tbody tr th {\n",
       "        vertical-align: top;\n",
       "    }\n",
       "\n",
       "    .dataframe thead th {\n",
       "        text-align: right;\n",
       "    }\n",
       "</style>\n",
       "<table border=\"1\" class=\"dataframe\">\n",
       "  <thead>\n",
       "    <tr style=\"text-align: right;\">\n",
       "      <th></th>\n",
       "      <th>発表日</th>\n",
       "      <th>年代・性別</th>\n",
       "      <th>国籍</th>\n",
       "      <th>住居地</th>\n",
       "      <th>接触状況</th>\n",
       "      <th>備考</th>\n",
       "    </tr>\n",
       "  </thead>\n",
       "  <tbody>\n",
       "  </tbody>\n",
       "</table>\n",
       "</div>"
      ],
      "text/plain": [
       "Empty DataFrame\n",
       "Columns: [発表日, 年代・性別, 国籍, 住居地, 接触状況, 備考]\n",
       "Index: []"
      ]
     },
     "execution_count": 93,
     "metadata": {},
     "output_type": "execute_result"
    }
   ],
   "source": [
    "df_all2[df_all2[\"年代・性別\"]==\"\"]"
   ]
  },
  {
   "cell_type": "code",
   "execution_count": 107,
   "metadata": {},
   "outputs": [],
   "source": [
    "df_all2 = df_all2.sort_index()"
   ]
  },
  {
   "cell_type": "code",
   "execution_count": 108,
   "metadata": {},
   "outputs": [
    {
     "data": {
      "text/plain": [
       "1        1月26日\n",
       "2        1月28日\n",
       "3        2月14日\n",
       "4        2月15日\n",
       "5        2月16日\n",
       "         ...  \n",
       "27398    3月31日\n",
       "27399    3月31日\n",
       "27400    3月31日\n",
       "27401    3月31日\n",
       "27402    3月31日\n",
       "Name: 発表日, Length: 27395, dtype: object"
      ]
     },
     "execution_count": 108,
     "metadata": {},
     "output_type": "execute_result"
    }
   ],
   "source": [
    "df_all2[\"発表日\"]"
   ]
  },
  {
   "cell_type": "code",
   "execution_count": 109,
   "metadata": {},
   "outputs": [],
   "source": [
    "\n",
    "df_all2[\"発表日\"] = pandas.to_datetime(\n",
    "    ['2021年' + _ if no > 16577 else '2020年' + _ for no, _ in zip(df_all2.index, df_all2['発表日'])], format='%Y年%m月%d日')"
   ]
  },
  {
   "cell_type": "code",
   "execution_count": null,
   "metadata": {},
   "outputs": [],
   "source": []
  },
  {
   "cell_type": "code",
   "execution_count": null,
   "metadata": {},
   "outputs": [],
   "source": []
  },
  {
   "cell_type": "code",
   "execution_count": null,
   "metadata": {},
   "outputs": [],
   "source": []
  },
  {
   "cell_type": "code",
   "execution_count": 110,
   "metadata": {},
   "outputs": [],
   "source": [
    "\n",
    "df_all2.to_pickle(f\"{os.path.splitext(pdf_file_path)[0]}.zip\")"
   ]
  },
  {
   "cell_type": "code",
   "execution_count": 113,
   "metadata": {},
   "outputs": [
    {
     "data": {
      "text/html": [
       "<div>\n",
       "<style scoped>\n",
       "    .dataframe tbody tr th:only-of-type {\n",
       "        vertical-align: middle;\n",
       "    }\n",
       "\n",
       "    .dataframe tbody tr th {\n",
       "        vertical-align: top;\n",
       "    }\n",
       "\n",
       "    .dataframe thead th {\n",
       "        text-align: right;\n",
       "    }\n",
       "</style>\n",
       "<table border=\"1\" class=\"dataframe\">\n",
       "  <thead>\n",
       "    <tr style=\"text-align: right;\">\n",
       "      <th></th>\n",
       "      <th>発表日</th>\n",
       "      <th>年代・性別</th>\n",
       "      <th>国籍</th>\n",
       "      <th>住居地</th>\n",
       "      <th>接触状況</th>\n",
       "      <th>備考</th>\n",
       "    </tr>\n",
       "  </thead>\n",
       "  <tbody>\n",
       "    <tr>\n",
       "      <th>27308</th>\n",
       "      <td>2021-03-31</td>\n",
       "      <td>60代女性</td>\n",
       "      <td></td>\n",
       "      <td>一宮市</td>\n",
       "      <td></td>\n",
       "      <td>本県発表11298</td>\n",
       "    </tr>\n",
       "    <tr>\n",
       "      <th>27309</th>\n",
       "      <td>2021-03-31</td>\n",
       "      <td>70代女性</td>\n",
       "      <td></td>\n",
       "      <td>瀬⼾市</td>\n",
       "      <td></td>\n",
       "      <td>本県発表11299</td>\n",
       "    </tr>\n",
       "    <tr>\n",
       "      <th>27310</th>\n",
       "      <td>2021-03-31</td>\n",
       "      <td>40代女性</td>\n",
       "      <td></td>\n",
       "      <td>瀬⼾市</td>\n",
       "      <td>No.27306と接触</td>\n",
       "      <td>本県発表11300</td>\n",
       "    </tr>\n",
       "    <tr>\n",
       "      <th>27311</th>\n",
       "      <td>2021-03-31</td>\n",
       "      <td>40代女性</td>\n",
       "      <td></td>\n",
       "      <td>尾張旭市</td>\n",
       "      <td></td>\n",
       "      <td>本県発表11301</td>\n",
       "    </tr>\n",
       "    <tr>\n",
       "      <th>27312</th>\n",
       "      <td>2021-03-31</td>\n",
       "      <td>30代女性</td>\n",
       "      <td></td>\n",
       "      <td>日進市</td>\n",
       "      <td></td>\n",
       "      <td>本県発表11302</td>\n",
       "    </tr>\n",
       "    <tr>\n",
       "      <th>...</th>\n",
       "      <td>...</td>\n",
       "      <td>...</td>\n",
       "      <td>...</td>\n",
       "      <td>...</td>\n",
       "      <td>...</td>\n",
       "      <td>...</td>\n",
       "    </tr>\n",
       "    <tr>\n",
       "      <th>27481</th>\n",
       "      <td>2021-04-01</td>\n",
       "      <td>50代女性</td>\n",
       "      <td></td>\n",
       "      <td>名古屋市</td>\n",
       "      <td></td>\n",
       "      <td>名古屋市発表12644</td>\n",
       "    </tr>\n",
       "    <tr>\n",
       "      <th>27482</th>\n",
       "      <td>2021-04-01</td>\n",
       "      <td>40代男性</td>\n",
       "      <td></td>\n",
       "      <td>名古屋市</td>\n",
       "      <td></td>\n",
       "      <td>名古屋市発表12645</td>\n",
       "    </tr>\n",
       "    <tr>\n",
       "      <th>27483</th>\n",
       "      <td>2021-04-01</td>\n",
       "      <td>30代男性</td>\n",
       "      <td></td>\n",
       "      <td>名古屋市</td>\n",
       "      <td>No.26999と接触</td>\n",
       "      <td>名古屋市発表12646</td>\n",
       "    </tr>\n",
       "    <tr>\n",
       "      <th>27484</th>\n",
       "      <td>2021-04-01</td>\n",
       "      <td>80代男性</td>\n",
       "      <td></td>\n",
       "      <td>名古屋市</td>\n",
       "      <td>No.26999と接触</td>\n",
       "      <td>名古屋市発表12647</td>\n",
       "    </tr>\n",
       "    <tr>\n",
       "      <th>27485</th>\n",
       "      <td>2021-04-01</td>\n",
       "      <td>10代男性</td>\n",
       "      <td></td>\n",
       "      <td>名古屋市</td>\n",
       "      <td>No.27195と接触</td>\n",
       "      <td>名古屋市発表12648</td>\n",
       "    </tr>\n",
       "  </tbody>\n",
       "</table>\n",
       "<p>178 rows × 6 columns</p>\n",
       "</div>"
      ],
      "text/plain": [
       "0            発表日  年代・性別 国籍   住居地         接触状況           備考\n",
       "27308 2021-03-31  60代女性      一宮市                 本県発表11298\n",
       "27309 2021-03-31  70代女性      瀬⼾市                 本県発表11299\n",
       "27310 2021-03-31  40代女性      瀬⼾市  No.27306と接触    本県発表11300\n",
       "27311 2021-03-31  40代女性     尾張旭市                 本県発表11301\n",
       "27312 2021-03-31  30代女性      日進市                 本県発表11302\n",
       "...          ...    ... ..   ...          ...          ...\n",
       "27481 2021-04-01  50代女性     名古屋市               名古屋市発表12644\n",
       "27482 2021-04-01  40代男性     名古屋市               名古屋市発表12645\n",
       "27483 2021-04-01  30代男性     名古屋市  No.26999と接触  名古屋市発表12646\n",
       "27484 2021-04-01  80代男性     名古屋市  No.26999と接触  名古屋市発表12647\n",
       "27485 2021-04-01  10代男性     名古屋市  No.27195と接触  名古屋市発表12648\n",
       "\n",
       "[178 rows x 6 columns]"
      ]
     },
     "execution_count": 113,
     "metadata": {},
     "output_type": "execute_result"
    }
   ],
   "source": [
    "pandas.read_pickle(\"database.zip\")[27300:]"
   ]
  },
  {
   "cell_type": "code",
   "execution_count": null,
   "metadata": {},
   "outputs": [],
   "source": []
  }
 ],
 "metadata": {
  "kernelspec": {
   "display_name": "Python 3",
   "language": "python",
   "name": "python3"
  },
  "language_info": {
   "codemirror_mode": {
    "name": "ipython",
    "version": 3
   },
   "file_extension": ".py",
   "mimetype": "text/x-python",
   "name": "python",
   "nbconvert_exporter": "python",
   "pygments_lexer": "ipython3",
   "version": "3.8.2"
  }
 },
 "nbformat": 4,
 "nbformat_minor": 4
}
