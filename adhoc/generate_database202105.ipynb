{
 "cells": [
  {
   "cell_type": "code",
   "execution_count": 1,
   "metadata": {},
   "outputs": [],
   "source": [
    "import camelot\n",
    "import pandas\n",
    "import os\n",
    "import copy\n",
    "from datetime import datetime, timedelta\n",
    "import feedparser\n",
    "import time\n",
    "import requests\n",
    "from bs4 import BeautifulSoup\n",
    "from urllib.parse import urljoin\n",
    "from twitter_post import post\n",
    "import re\n",
    "import PyPDF2"
   ]
  },
  {
   "cell_type": "code",
   "execution_count": 2,
   "metadata": {},
   "outputs": [
    {
     "name": "stdout",
     "output_type": "stream",
     "text": [
      "generating data/202104.pdf\n"
     ]
    },
    {
     "name": "stderr",
     "output_type": "stream",
     "text": [
      "PdfReadWarning: Xref table not zero-indexed. ID numbers for objects will be corrected. [pdf.py:1736]\n"
     ]
    }
   ],
   "source": [
    "pdf_file_path = os.path.join(\"data\", \"202104.pdf\")\n",
    "\n",
    "print(f\"generating {pdf_file_path}\")\n",
    "\n",
    "\n",
    "pdf_read = PyPDF2.PdfFileReader(pdf_file_path)\n",
    "num_page = pdf_read.numPages\n",
    "\n",
    "if num_page > 10:\n",
    "    page_list = list(range(10, num_page, 10))\n",
    "else:\n",
    "    page_list = [num_page]\n",
    "init = 1\n",
    "dfs_lap = []\n",
    "for num in page_list:\n",
    "    if num == page_list[-1]:\n",
    "        num = \"end\"\n",
    "    tbls = camelot.read_pdf(pdf_file_path, pages=f'{init}-{num}')\n",
    "    if num != \"end\":\n",
    "        init = num + 1\n",
    "\n",
    "    dfs = []\n",
    "    for table in tbls:\n",
    "        df = table.df\n",
    "        dfs.append(df)\n",
    "    df_all = pandas.concat(dfs)\n",
    "    dfs_lap.append(df_all)\n",
    "df_total = pandas.concat(dfs_lap)\n",
    "\n",
    "df_all = copy.deepcopy(df_total)\n",
    "\n",
    "df_all.columns = df_all.iloc[0, :]\n",
    "df_all = df_all.sort_values(\"No\")\n",
    "df_all = df_all[df_all[\"No\"] != \"No\"]\n",
    "df_all = df_all.set_index(\"No\")"
   ]
  },
  {
   "cell_type": "code",
   "execution_count": 3,
   "metadata": {},
   "outputs": [],
   "source": [
    "exceptions2 = [index for index, _date in zip(df_all.index, df_all[\"発表日\"]) if \"欠番\" in _date]\n",
    "exceptions = [index for index in df_all.index if \"陽性者公表数の修正\" in index ]\n",
    "exceptions += exceptions2\n",
    "df_all2 = df_all.drop(exceptions, axis=0)"
   ]
  },
  {
   "cell_type": "code",
   "execution_count": null,
   "metadata": {},
   "outputs": [],
   "source": []
  },
  {
   "cell_type": "code",
   "execution_count": 4,
   "metadata": {},
   "outputs": [
    {
     "name": "stderr",
     "output_type": "stream",
     "text": [
      "SettingWithCopyWarning: \n",
      "A value is trying to be set on a copy of a slice from a DataFrame.\n",
      "Try using .loc[row_indexer,col_indexer] = value instead\n",
      "\n",
      "See the caveats in the documentation: https://pandas.pydata.org/pandas-docs/stable/user_guide/indexing.html#returning-a-view-versus-a-copy [indexing.py:1843]\n"
     ]
    }
   ],
   "source": [
    "new_index = []\n",
    "new_date = []\n",
    "for no in df_all2.index:\n",
    "    if df_all2.at[no, \"発表日\"] == \"\":\n",
    "        _no, _date = no.split()\n",
    "    else:\n",
    "        _no, _date = no, df_all2.at[no, \"発表日\"]\n",
    "    new_index.append(int(_no))\n",
    "    new_date.append(_date.replace(\"※\", \"\"))\n",
    "df_all2.index = new_index\n",
    "df_all2.loc[:, \"発表日\"] = new_date"
   ]
  },
  {
   "cell_type": "code",
   "execution_count": 5,
   "metadata": {},
   "outputs": [
    {
     "data": {
      "text/html": [
       "<div>\n",
       "<style scoped>\n",
       "    .dataframe tbody tr th:only-of-type {\n",
       "        vertical-align: middle;\n",
       "    }\n",
       "\n",
       "    .dataframe tbody tr th {\n",
       "        vertical-align: top;\n",
       "    }\n",
       "\n",
       "    .dataframe thead th {\n",
       "        text-align: right;\n",
       "    }\n",
       "</style>\n",
       "<table border=\"1\" class=\"dataframe\">\n",
       "  <thead>\n",
       "    <tr style=\"text-align: right;\">\n",
       "      <th></th>\n",
       "      <th>発表日</th>\n",
       "      <th>年代・性別</th>\n",
       "      <th>国籍</th>\n",
       "      <th>住居地</th>\n",
       "      <th>接触状況</th>\n",
       "      <th>備考</th>\n",
       "    </tr>\n",
       "  </thead>\n",
       "  <tbody>\n",
       "  </tbody>\n",
       "</table>\n",
       "</div>"
      ],
      "text/plain": [
       "Empty DataFrame\n",
       "Columns: [発表日, 年代・性別, 国籍, 住居地, 接触状況, 備考]\n",
       "Index: []"
      ]
     },
     "execution_count": 5,
     "metadata": {},
     "output_type": "execute_result"
    }
   ],
   "source": [
    "df_all2[df_all2[\"発表日\"] == \"\"]"
   ]
  },
  {
   "cell_type": "code",
   "execution_count": null,
   "metadata": {},
   "outputs": [],
   "source": []
  },
  {
   "cell_type": "code",
   "execution_count": null,
   "metadata": {},
   "outputs": [],
   "source": []
  },
  {
   "cell_type": "code",
   "execution_count": 6,
   "metadata": {},
   "outputs": [],
   "source": [
    "df_all2.index = [int(_) for _ in df_all2.index]"
   ]
  },
  {
   "cell_type": "code",
   "execution_count": null,
   "metadata": {},
   "outputs": [],
   "source": []
  },
  {
   "cell_type": "code",
   "execution_count": 7,
   "metadata": {},
   "outputs": [],
   "source": [
    "for ind in df_all2.index:\n",
    "    try:\n",
    "        int(ind)\n",
    "    except:\n",
    "        print(df_all2.loc[ind, :])"
   ]
  },
  {
   "cell_type": "code",
   "execution_count": null,
   "metadata": {},
   "outputs": [],
   "source": []
  },
  {
   "cell_type": "code",
   "execution_count": 8,
   "metadata": {},
   "outputs": [
    {
     "name": "stderr",
     "output_type": "stream",
     "text": [
      "SettingWithCopyWarning: \n",
      "A value is trying to be set on a copy of a slice from a DataFrame\n",
      "\n",
      "See the caveats in the documentation: https://pandas.pydata.org/pandas-docs/stable/user_guide/indexing.html#returning-a-view-versus-a-copy [indexing.py:1637]\n",
      "SettingWithCopyWarning: \n",
      "A value is trying to be set on a copy of a slice from a DataFrame\n",
      "\n",
      "See the caveats in the documentation: https://pandas.pydata.org/pandas-docs/stable/user_guide/indexing.html#returning-a-view-versus-a-copy [indexing.py:692]\n"
     ]
    }
   ],
   "source": [
    "list0 = df_all2.loc[6951,\"発表日\"].split(\"\\n\")\n",
    "list0.insert(2,\"\")\n",
    "list0\n",
    "df_all2.loc[6951,:] = list0"
   ]
  },
  {
   "cell_type": "code",
   "execution_count": null,
   "metadata": {},
   "outputs": [],
   "source": []
  },
  {
   "cell_type": "code",
   "execution_count": null,
   "metadata": {},
   "outputs": [],
   "source": []
  },
  {
   "cell_type": "code",
   "execution_count": 93,
   "metadata": {},
   "outputs": [
    {
     "data": {
      "text/html": [
       "<div>\n",
       "<style scoped>\n",
       "    .dataframe tbody tr th:only-of-type {\n",
       "        vertical-align: middle;\n",
       "    }\n",
       "\n",
       "    .dataframe tbody tr th {\n",
       "        vertical-align: top;\n",
       "    }\n",
       "\n",
       "    .dataframe thead th {\n",
       "        text-align: right;\n",
       "    }\n",
       "</style>\n",
       "<table border=\"1\" class=\"dataframe\">\n",
       "  <thead>\n",
       "    <tr style=\"text-align: right;\">\n",
       "      <th></th>\n",
       "      <th>発表日</th>\n",
       "      <th>年代・性別</th>\n",
       "      <th>国籍</th>\n",
       "      <th>住居地</th>\n",
       "      <th>接触状況</th>\n",
       "      <th>備考</th>\n",
       "    </tr>\n",
       "  </thead>\n",
       "  <tbody>\n",
       "  </tbody>\n",
       "</table>\n",
       "</div>"
      ],
      "text/plain": [
       "Empty DataFrame\n",
       "Columns: [発表日, 年代・性別, 国籍, 住居地, 接触状況, 備考]\n",
       "Index: []"
      ]
     },
     "execution_count": 93,
     "metadata": {},
     "output_type": "execute_result"
    }
   ],
   "source": [
    "df_all2[df_all2[\"年代・性別\"]==\"\"]"
   ]
  },
  {
   "cell_type": "code",
   "execution_count": 14,
   "metadata": {},
   "outputs": [],
   "source": [
    "df_all2 = df_all2.sort_index()"
   ]
  },
  {
   "cell_type": "code",
   "execution_count": 31,
   "metadata": {},
   "outputs": [
    {
     "name": "stdout",
     "output_type": "stream",
     "text": [
      "33000 4月29日\n",
      "40代男性\n",
      "岡崎市\n",
      "No.32610と接触\n",
      "岡崎市発表1204 33012\n"
     ]
    }
   ],
   "source": [
    "for n,_ in enumerate(df_all2[\"発表日\"]):\n",
    "    if len(_)>6:\n",
    "        print(n,_,df_all2.index[n])"
   ]
  },
  {
   "cell_type": "code",
   "execution_count": 36,
   "metadata": {},
   "outputs": [
    {
     "data": {
      "text/html": [
       "<div>\n",
       "<style scoped>\n",
       "    .dataframe tbody tr th:only-of-type {\n",
       "        vertical-align: middle;\n",
       "    }\n",
       "\n",
       "    .dataframe tbody tr th {\n",
       "        vertical-align: top;\n",
       "    }\n",
       "\n",
       "    .dataframe thead th {\n",
       "        text-align: right;\n",
       "    }\n",
       "</style>\n",
       "<table border=\"1\" class=\"dataframe\">\n",
       "  <thead>\n",
       "    <tr style=\"text-align: right;\">\n",
       "      <th></th>\n",
       "      <th>発表日</th>\n",
       "      <th>年代・性別</th>\n",
       "      <th>国籍</th>\n",
       "      <th>住居地</th>\n",
       "      <th>接触状況</th>\n",
       "      <th>備考</th>\n",
       "    </tr>\n",
       "  </thead>\n",
       "  <tbody>\n",
       "    <tr>\n",
       "      <th>1</th>\n",
       "      <td>1月26日</td>\n",
       "      <td>40代男性</td>\n",
       "      <td>中国</td>\n",
       "      <td>中国武漢市</td>\n",
       "      <td>中国</td>\n",
       "      <td>本県発表1</td>\n",
       "    </tr>\n",
       "    <tr>\n",
       "      <th>2</th>\n",
       "      <td>1月28日</td>\n",
       "      <td>40代男性</td>\n",
       "      <td>中国</td>\n",
       "      <td>中国武漢市</td>\n",
       "      <td>中国</td>\n",
       "      <td>本県発表2</td>\n",
       "    </tr>\n",
       "    <tr>\n",
       "      <th>3</th>\n",
       "      <td>2月14日</td>\n",
       "      <td>60代男性</td>\n",
       "      <td>日本</td>\n",
       "      <td>名古屋市</td>\n",
       "      <td>アメリカ</td>\n",
       "      <td>名古屋市発表1</td>\n",
       "    </tr>\n",
       "    <tr>\n",
       "      <th>4</th>\n",
       "      <td>2月15日</td>\n",
       "      <td>60代女性</td>\n",
       "      <td>日本</td>\n",
       "      <td>名古屋市</td>\n",
       "      <td>No.3と接触</td>\n",
       "      <td>名古屋市発表2</td>\n",
       "    </tr>\n",
       "    <tr>\n",
       "      <th>5</th>\n",
       "      <td>2月16日</td>\n",
       "      <td>60代男性</td>\n",
       "      <td>日本</td>\n",
       "      <td>尾張地方</td>\n",
       "      <td>No.4と接触</td>\n",
       "      <td>本県発表3</td>\n",
       "    </tr>\n",
       "    <tr>\n",
       "      <th>...</th>\n",
       "      <td>...</td>\n",
       "      <td>...</td>\n",
       "      <td>...</td>\n",
       "      <td>...</td>\n",
       "      <td>...</td>\n",
       "      <td>...</td>\n",
       "    </tr>\n",
       "    <tr>\n",
       "      <th>33485</th>\n",
       "      <td>4月30日</td>\n",
       "      <td>10歳未満女性</td>\n",
       "      <td></td>\n",
       "      <td>名古屋市</td>\n",
       "      <td>No.31959と接触</td>\n",
       "      <td>名古屋市発表15058</td>\n",
       "    </tr>\n",
       "    <tr>\n",
       "      <th>33486</th>\n",
       "      <td>4月30日</td>\n",
       "      <td>20代男性</td>\n",
       "      <td></td>\n",
       "      <td>名古屋市</td>\n",
       "      <td>No.31357と接触</td>\n",
       "      <td>名古屋市発表15059</td>\n",
       "    </tr>\n",
       "    <tr>\n",
       "      <th>33487</th>\n",
       "      <td>4月30日</td>\n",
       "      <td>40代女性</td>\n",
       "      <td></td>\n",
       "      <td>名古屋市</td>\n",
       "      <td>No.30333と接触</td>\n",
       "      <td>名古屋市発表15060</td>\n",
       "    </tr>\n",
       "    <tr>\n",
       "      <th>33488</th>\n",
       "      <td>4月30日</td>\n",
       "      <td>30代男性</td>\n",
       "      <td></td>\n",
       "      <td>千葉市</td>\n",
       "      <td></td>\n",
       "      <td>名古屋市発表15061</td>\n",
       "    </tr>\n",
       "    <tr>\n",
       "      <th>33489</th>\n",
       "      <td>4月30日</td>\n",
       "      <td>30代男性</td>\n",
       "      <td></td>\n",
       "      <td>千葉市</td>\n",
       "      <td>No.33488と接触</td>\n",
       "      <td>名古屋市発表15062</td>\n",
       "    </tr>\n",
       "  </tbody>\n",
       "</table>\n",
       "<p>33477 rows × 6 columns</p>\n",
       "</div>"
      ],
      "text/plain": [
       "0        発表日    年代・性別  国籍    住居地         接触状況           備考\n",
       "1      1月26日    40代男性  中国  中国武漢市           中国        本県発表1\n",
       "2      1月28日    40代男性  中国  中国武漢市           中国        本県発表2\n",
       "3      2月14日    60代男性  日本   名古屋市         アメリカ      名古屋市発表1\n",
       "4      2月15日    60代女性  日本   名古屋市      No.3と接触      名古屋市発表2\n",
       "5      2月16日    60代男性  日本   尾張地方      No.4と接触        本県発表3\n",
       "...      ...      ...  ..    ...          ...          ...\n",
       "33485  4月30日  10歳未満女性       名古屋市  No.31959と接触  名古屋市発表15058\n",
       "33486  4月30日    20代男性       名古屋市  No.31357と接触  名古屋市発表15059\n",
       "33487  4月30日    40代女性       名古屋市  No.30333と接触  名古屋市発表15060\n",
       "33488  4月30日    30代男性        千葉市               名古屋市発表15061\n",
       "33489  4月30日    30代男性        千葉市  No.33488と接触  名古屋市発表15062\n",
       "\n",
       "[33477 rows x 6 columns]"
      ]
     },
     "execution_count": 36,
     "metadata": {},
     "output_type": "execute_result"
    }
   ],
   "source": [
    "df_all2"
   ]
  },
  {
   "cell_type": "code",
   "execution_count": 38,
   "metadata": {},
   "outputs": [],
   "source": [
    "l33012 = df_all2.loc[33012,\"発表日\"].split(\"\\n\")\n",
    "l33012.insert(2,\"\")\n",
    "l33012\n",
    "df_all2.loc[33012,:]=l33012"
   ]
  },
  {
   "cell_type": "code",
   "execution_count": 39,
   "metadata": {},
   "outputs": [
    {
     "data": {
      "text/html": [
       "<div>\n",
       "<style scoped>\n",
       "    .dataframe tbody tr th:only-of-type {\n",
       "        vertical-align: middle;\n",
       "    }\n",
       "\n",
       "    .dataframe tbody tr th {\n",
       "        vertical-align: top;\n",
       "    }\n",
       "\n",
       "    .dataframe thead th {\n",
       "        text-align: right;\n",
       "    }\n",
       "</style>\n",
       "<table border=\"1\" class=\"dataframe\">\n",
       "  <thead>\n",
       "    <tr style=\"text-align: right;\">\n",
       "      <th></th>\n",
       "      <th>発表日</th>\n",
       "      <th>年代・性別</th>\n",
       "      <th>国籍</th>\n",
       "      <th>住居地</th>\n",
       "      <th>接触状況</th>\n",
       "      <th>備考</th>\n",
       "    </tr>\n",
       "  </thead>\n",
       "  <tbody>\n",
       "    <tr>\n",
       "      <th>33010</th>\n",
       "      <td>4月29日</td>\n",
       "      <td>40代男性</td>\n",
       "      <td></td>\n",
       "      <td>岡崎市</td>\n",
       "      <td>No.32610と接触</td>\n",
       "      <td>岡崎市発表1202</td>\n",
       "    </tr>\n",
       "    <tr>\n",
       "      <th>33012</th>\n",
       "      <td>4月29日</td>\n",
       "      <td>40代男性</td>\n",
       "      <td></td>\n",
       "      <td>岡崎市</td>\n",
       "      <td>No.32610と接触</td>\n",
       "      <td>岡崎市発表1204</td>\n",
       "    </tr>\n",
       "    <tr>\n",
       "      <th>33014</th>\n",
       "      <td>4月29日</td>\n",
       "      <td>60代女性</td>\n",
       "      <td></td>\n",
       "      <td>岡崎市</td>\n",
       "      <td>No.32610と接触</td>\n",
       "      <td>岡崎市発表1206</td>\n",
       "    </tr>\n",
       "    <tr>\n",
       "      <th>33015</th>\n",
       "      <td>4月29日</td>\n",
       "      <td>70代女性</td>\n",
       "      <td></td>\n",
       "      <td>岡崎市</td>\n",
       "      <td>No.32610と接触</td>\n",
       "      <td>岡崎市発表1207</td>\n",
       "    </tr>\n",
       "  </tbody>\n",
       "</table>\n",
       "</div>"
      ],
      "text/plain": [
       "0        発表日  年代・性別 国籍  住居地         接触状況         備考\n",
       "33010  4月29日  40代男性     岡崎市  No.32610と接触  岡崎市発表1202\n",
       "33012  4月29日  40代男性     岡崎市  No.32610と接触  岡崎市発表1204\n",
       "33014  4月29日  60代女性     岡崎市  No.32610と接触  岡崎市発表1206\n",
       "33015  4月29日  70代女性     岡崎市  No.32610と接触  岡崎市発表1207"
      ]
     },
     "execution_count": 39,
     "metadata": {},
     "output_type": "execute_result"
    }
   ],
   "source": [
    "df_all2.loc[33010:33015, :]"
   ]
  },
  {
   "cell_type": "code",
   "execution_count": 40,
   "metadata": {},
   "outputs": [],
   "source": [
    "\n",
    "df_all2[\"発表日\"] = pandas.to_datetime(\n",
    "    ['2021年' + _ if no > 16577 else '2020年' + _ for no, _ in zip(df_all2.index, df_all2['発表日'])], format='%Y年%m月%d日')"
   ]
  },
  {
   "cell_type": "code",
   "execution_count": null,
   "metadata": {},
   "outputs": [],
   "source": []
  },
  {
   "cell_type": "code",
   "execution_count": null,
   "metadata": {},
   "outputs": [],
   "source": []
  },
  {
   "cell_type": "code",
   "execution_count": null,
   "metadata": {},
   "outputs": [],
   "source": []
  },
  {
   "cell_type": "code",
   "execution_count": 41,
   "metadata": {},
   "outputs": [],
   "source": [
    "\n",
    "df_all2.to_pickle(f\"{os.path.splitext(pdf_file_path)[0]}.zip\")"
   ]
  },
  {
   "cell_type": "code",
   "execution_count": 113,
   "metadata": {},
   "outputs": [
    {
     "data": {
      "text/html": [
       "<div>\n",
       "<style scoped>\n",
       "    .dataframe tbody tr th:only-of-type {\n",
       "        vertical-align: middle;\n",
       "    }\n",
       "\n",
       "    .dataframe tbody tr th {\n",
       "        vertical-align: top;\n",
       "    }\n",
       "\n",
       "    .dataframe thead th {\n",
       "        text-align: right;\n",
       "    }\n",
       "</style>\n",
       "<table border=\"1\" class=\"dataframe\">\n",
       "  <thead>\n",
       "    <tr style=\"text-align: right;\">\n",
       "      <th></th>\n",
       "      <th>発表日</th>\n",
       "      <th>年代・性別</th>\n",
       "      <th>国籍</th>\n",
       "      <th>住居地</th>\n",
       "      <th>接触状況</th>\n",
       "      <th>備考</th>\n",
       "    </tr>\n",
       "  </thead>\n",
       "  <tbody>\n",
       "    <tr>\n",
       "      <th>27308</th>\n",
       "      <td>2021-03-31</td>\n",
       "      <td>60代女性</td>\n",
       "      <td></td>\n",
       "      <td>一宮市</td>\n",
       "      <td></td>\n",
       "      <td>本県発表11298</td>\n",
       "    </tr>\n",
       "    <tr>\n",
       "      <th>27309</th>\n",
       "      <td>2021-03-31</td>\n",
       "      <td>70代女性</td>\n",
       "      <td></td>\n",
       "      <td>瀬⼾市</td>\n",
       "      <td></td>\n",
       "      <td>本県発表11299</td>\n",
       "    </tr>\n",
       "    <tr>\n",
       "      <th>27310</th>\n",
       "      <td>2021-03-31</td>\n",
       "      <td>40代女性</td>\n",
       "      <td></td>\n",
       "      <td>瀬⼾市</td>\n",
       "      <td>No.27306と接触</td>\n",
       "      <td>本県発表11300</td>\n",
       "    </tr>\n",
       "    <tr>\n",
       "      <th>27311</th>\n",
       "      <td>2021-03-31</td>\n",
       "      <td>40代女性</td>\n",
       "      <td></td>\n",
       "      <td>尾張旭市</td>\n",
       "      <td></td>\n",
       "      <td>本県発表11301</td>\n",
       "    </tr>\n",
       "    <tr>\n",
       "      <th>27312</th>\n",
       "      <td>2021-03-31</td>\n",
       "      <td>30代女性</td>\n",
       "      <td></td>\n",
       "      <td>日進市</td>\n",
       "      <td></td>\n",
       "      <td>本県発表11302</td>\n",
       "    </tr>\n",
       "    <tr>\n",
       "      <th>...</th>\n",
       "      <td>...</td>\n",
       "      <td>...</td>\n",
       "      <td>...</td>\n",
       "      <td>...</td>\n",
       "      <td>...</td>\n",
       "      <td>...</td>\n",
       "    </tr>\n",
       "    <tr>\n",
       "      <th>27481</th>\n",
       "      <td>2021-04-01</td>\n",
       "      <td>50代女性</td>\n",
       "      <td></td>\n",
       "      <td>名古屋市</td>\n",
       "      <td></td>\n",
       "      <td>名古屋市発表12644</td>\n",
       "    </tr>\n",
       "    <tr>\n",
       "      <th>27482</th>\n",
       "      <td>2021-04-01</td>\n",
       "      <td>40代男性</td>\n",
       "      <td></td>\n",
       "      <td>名古屋市</td>\n",
       "      <td></td>\n",
       "      <td>名古屋市発表12645</td>\n",
       "    </tr>\n",
       "    <tr>\n",
       "      <th>27483</th>\n",
       "      <td>2021-04-01</td>\n",
       "      <td>30代男性</td>\n",
       "      <td></td>\n",
       "      <td>名古屋市</td>\n",
       "      <td>No.26999と接触</td>\n",
       "      <td>名古屋市発表12646</td>\n",
       "    </tr>\n",
       "    <tr>\n",
       "      <th>27484</th>\n",
       "      <td>2021-04-01</td>\n",
       "      <td>80代男性</td>\n",
       "      <td></td>\n",
       "      <td>名古屋市</td>\n",
       "      <td>No.26999と接触</td>\n",
       "      <td>名古屋市発表12647</td>\n",
       "    </tr>\n",
       "    <tr>\n",
       "      <th>27485</th>\n",
       "      <td>2021-04-01</td>\n",
       "      <td>10代男性</td>\n",
       "      <td></td>\n",
       "      <td>名古屋市</td>\n",
       "      <td>No.27195と接触</td>\n",
       "      <td>名古屋市発表12648</td>\n",
       "    </tr>\n",
       "  </tbody>\n",
       "</table>\n",
       "<p>178 rows × 6 columns</p>\n",
       "</div>"
      ],
      "text/plain": [
       "0            発表日  年代・性別 国籍   住居地         接触状況           備考\n",
       "27308 2021-03-31  60代女性      一宮市                 本県発表11298\n",
       "27309 2021-03-31  70代女性      瀬⼾市                 本県発表11299\n",
       "27310 2021-03-31  40代女性      瀬⼾市  No.27306と接触    本県発表11300\n",
       "27311 2021-03-31  40代女性     尾張旭市                 本県発表11301\n",
       "27312 2021-03-31  30代女性      日進市                 本県発表11302\n",
       "...          ...    ... ..   ...          ...          ...\n",
       "27481 2021-04-01  50代女性     名古屋市               名古屋市発表12644\n",
       "27482 2021-04-01  40代男性     名古屋市               名古屋市発表12645\n",
       "27483 2021-04-01  30代男性     名古屋市  No.26999と接触  名古屋市発表12646\n",
       "27484 2021-04-01  80代男性     名古屋市  No.26999と接触  名古屋市発表12647\n",
       "27485 2021-04-01  10代男性     名古屋市  No.27195と接触  名古屋市発表12648\n",
       "\n",
       "[178 rows x 6 columns]"
      ]
     },
     "execution_count": 113,
     "metadata": {},
     "output_type": "execute_result"
    }
   ],
   "source": [
    "pandas.read_pickle(\"database.zip\")[27300:]"
   ]
  },
  {
   "cell_type": "code",
   "execution_count": null,
   "metadata": {},
   "outputs": [],
   "source": []
  }
 ],
 "metadata": {
  "kernelspec": {
   "display_name": "Python 3",
   "language": "python",
   "name": "python3"
  },
  "language_info": {
   "codemirror_mode": {
    "name": "ipython",
    "version": 3
   },
   "file_extension": ".py",
   "mimetype": "text/x-python",
   "name": "python",
   "nbconvert_exporter": "python",
   "pygments_lexer": "ipython3",
   "version": "3.8.2"
  }
 },
 "nbformat": 4,
 "nbformat_minor": 4
}
